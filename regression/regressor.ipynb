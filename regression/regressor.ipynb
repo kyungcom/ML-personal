{
 "cells": [
  {
   "cell_type": "markdown",
   "id": "570dad5d",
   "metadata": {},
   "source": [
    "### 환경준비"
   ]
  },
  {
   "cell_type": "code",
   "execution_count": 1,
   "id": "654d0f40",
   "metadata": {},
   "outputs": [
    {
     "name": "stderr",
     "output_type": "stream",
     "text": [
      "C:\\Users\\qrdls\\anaconda3\\lib\\site-packages\\scipy\\__init__.py:146: UserWarning: A NumPy version >=1.16.5 and <1.23.0 is required for this version of SciPy (detected version 1.23.3\n",
      "  warnings.warn(f\"A NumPy version >={np_minversion} and <{np_maxversion}\"\n"
     ]
    }
   ],
   "source": [
    "import numpy as np\n",
    "import pandas as pd\n",
    "import matplotlib.pyplot as plt\n",
    "\n",
    "from sklearn.model_selection import train_test_split\n",
    "\n",
    "import warnings    # 경고메시지 제외\n",
    "warnings.filterwarnings(action='ignore')"
   ]
  },
  {
   "cell_type": "code",
   "execution_count": 2,
   "id": "1c32ff46",
   "metadata": {},
   "outputs": [],
   "source": [
    "data = pd.read_csv(\"train.csv\")\n",
    "test = pd.read_csv(\"test.csv\")"
   ]
  },
  {
   "cell_type": "code",
   "execution_count": 3,
   "id": "0489ecdd",
   "metadata": {},
   "outputs": [
    {
     "data": {
      "text/html": [
       "<div>\n",
       "<style scoped>\n",
       "    .dataframe tbody tr th:only-of-type {\n",
       "        vertical-align: middle;\n",
       "    }\n",
       "\n",
       "    .dataframe tbody tr th {\n",
       "        vertical-align: top;\n",
       "    }\n",
       "\n",
       "    .dataframe thead th {\n",
       "        text-align: right;\n",
       "    }\n",
       "</style>\n",
       "<table border=\"1\" class=\"dataframe\">\n",
       "  <thead>\n",
       "    <tr style=\"text-align: right;\">\n",
       "      <th></th>\n",
       "      <th>battery_power</th>\n",
       "      <th>blue</th>\n",
       "      <th>clock_speed</th>\n",
       "      <th>dual_sim</th>\n",
       "      <th>fc</th>\n",
       "      <th>four_g</th>\n",
       "      <th>int_memory</th>\n",
       "      <th>m_dep</th>\n",
       "      <th>mobile_wt</th>\n",
       "      <th>n_cores</th>\n",
       "      <th>...</th>\n",
       "      <th>px_height</th>\n",
       "      <th>px_width</th>\n",
       "      <th>ram</th>\n",
       "      <th>sc_h</th>\n",
       "      <th>sc_w</th>\n",
       "      <th>talk_time</th>\n",
       "      <th>three_g</th>\n",
       "      <th>touch_screen</th>\n",
       "      <th>wifi</th>\n",
       "      <th>price_range</th>\n",
       "    </tr>\n",
       "  </thead>\n",
       "  <tbody>\n",
       "    <tr>\n",
       "      <th>0</th>\n",
       "      <td>842</td>\n",
       "      <td>0</td>\n",
       "      <td>2.2</td>\n",
       "      <td>0</td>\n",
       "      <td>1</td>\n",
       "      <td>0</td>\n",
       "      <td>7</td>\n",
       "      <td>0.6</td>\n",
       "      <td>188</td>\n",
       "      <td>2</td>\n",
       "      <td>...</td>\n",
       "      <td>20</td>\n",
       "      <td>756</td>\n",
       "      <td>2549</td>\n",
       "      <td>9</td>\n",
       "      <td>7</td>\n",
       "      <td>19</td>\n",
       "      <td>0</td>\n",
       "      <td>0</td>\n",
       "      <td>1</td>\n",
       "      <td>1</td>\n",
       "    </tr>\n",
       "    <tr>\n",
       "      <th>1</th>\n",
       "      <td>1021</td>\n",
       "      <td>1</td>\n",
       "      <td>0.5</td>\n",
       "      <td>1</td>\n",
       "      <td>0</td>\n",
       "      <td>1</td>\n",
       "      <td>53</td>\n",
       "      <td>0.7</td>\n",
       "      <td>136</td>\n",
       "      <td>3</td>\n",
       "      <td>...</td>\n",
       "      <td>905</td>\n",
       "      <td>1988</td>\n",
       "      <td>2631</td>\n",
       "      <td>17</td>\n",
       "      <td>3</td>\n",
       "      <td>7</td>\n",
       "      <td>1</td>\n",
       "      <td>1</td>\n",
       "      <td>0</td>\n",
       "      <td>2</td>\n",
       "    </tr>\n",
       "    <tr>\n",
       "      <th>2</th>\n",
       "      <td>563</td>\n",
       "      <td>1</td>\n",
       "      <td>0.5</td>\n",
       "      <td>1</td>\n",
       "      <td>2</td>\n",
       "      <td>1</td>\n",
       "      <td>41</td>\n",
       "      <td>0.9</td>\n",
       "      <td>145</td>\n",
       "      <td>5</td>\n",
       "      <td>...</td>\n",
       "      <td>1263</td>\n",
       "      <td>1716</td>\n",
       "      <td>2603</td>\n",
       "      <td>11</td>\n",
       "      <td>2</td>\n",
       "      <td>9</td>\n",
       "      <td>1</td>\n",
       "      <td>1</td>\n",
       "      <td>0</td>\n",
       "      <td>2</td>\n",
       "    </tr>\n",
       "    <tr>\n",
       "      <th>3</th>\n",
       "      <td>615</td>\n",
       "      <td>1</td>\n",
       "      <td>2.5</td>\n",
       "      <td>0</td>\n",
       "      <td>0</td>\n",
       "      <td>0</td>\n",
       "      <td>10</td>\n",
       "      <td>0.8</td>\n",
       "      <td>131</td>\n",
       "      <td>6</td>\n",
       "      <td>...</td>\n",
       "      <td>1216</td>\n",
       "      <td>1786</td>\n",
       "      <td>2769</td>\n",
       "      <td>16</td>\n",
       "      <td>8</td>\n",
       "      <td>11</td>\n",
       "      <td>1</td>\n",
       "      <td>0</td>\n",
       "      <td>0</td>\n",
       "      <td>2</td>\n",
       "    </tr>\n",
       "    <tr>\n",
       "      <th>4</th>\n",
       "      <td>1821</td>\n",
       "      <td>1</td>\n",
       "      <td>1.2</td>\n",
       "      <td>0</td>\n",
       "      <td>13</td>\n",
       "      <td>1</td>\n",
       "      <td>44</td>\n",
       "      <td>0.6</td>\n",
       "      <td>141</td>\n",
       "      <td>2</td>\n",
       "      <td>...</td>\n",
       "      <td>1208</td>\n",
       "      <td>1212</td>\n",
       "      <td>1411</td>\n",
       "      <td>8</td>\n",
       "      <td>2</td>\n",
       "      <td>15</td>\n",
       "      <td>1</td>\n",
       "      <td>1</td>\n",
       "      <td>0</td>\n",
       "      <td>1</td>\n",
       "    </tr>\n",
       "  </tbody>\n",
       "</table>\n",
       "<p>5 rows × 21 columns</p>\n",
       "</div>"
      ],
      "text/plain": [
       "   battery_power  blue  clock_speed  dual_sim  fc  four_g  int_memory  m_dep  \\\n",
       "0            842     0          2.2         0   1       0           7    0.6   \n",
       "1           1021     1          0.5         1   0       1          53    0.7   \n",
       "2            563     1          0.5         1   2       1          41    0.9   \n",
       "3            615     1          2.5         0   0       0          10    0.8   \n",
       "4           1821     1          1.2         0  13       1          44    0.6   \n",
       "\n",
       "   mobile_wt  n_cores  ...  px_height  px_width   ram  sc_h  sc_w  talk_time  \\\n",
       "0        188        2  ...         20       756  2549     9     7         19   \n",
       "1        136        3  ...        905      1988  2631    17     3          7   \n",
       "2        145        5  ...       1263      1716  2603    11     2          9   \n",
       "3        131        6  ...       1216      1786  2769    16     8         11   \n",
       "4        141        2  ...       1208      1212  1411     8     2         15   \n",
       "\n",
       "   three_g  touch_screen  wifi  price_range  \n",
       "0        0             0     1            1  \n",
       "1        1             1     0            2  \n",
       "2        1             1     0            2  \n",
       "3        1             0     0            2  \n",
       "4        1             1     0            1  \n",
       "\n",
       "[5 rows x 21 columns]"
      ]
     },
     "execution_count": 3,
     "metadata": {},
     "output_type": "execute_result"
    }
   ],
   "source": [
    "data.head()"
   ]
  },
  {
   "cell_type": "code",
   "execution_count": 4,
   "id": "259788eb",
   "metadata": {},
   "outputs": [
    {
     "name": "stdout",
     "output_type": "stream",
     "text": [
      "<class 'pandas.core.frame.DataFrame'>\n",
      "RangeIndex: 2000 entries, 0 to 1999\n",
      "Data columns (total 21 columns):\n",
      " #   Column         Non-Null Count  Dtype  \n",
      "---  ------         --------------  -----  \n",
      " 0   battery_power  2000 non-null   int64  \n",
      " 1   blue           2000 non-null   int64  \n",
      " 2   clock_speed    2000 non-null   float64\n",
      " 3   dual_sim       2000 non-null   int64  \n",
      " 4   fc             2000 non-null   int64  \n",
      " 5   four_g         2000 non-null   int64  \n",
      " 6   int_memory     2000 non-null   int64  \n",
      " 7   m_dep          2000 non-null   float64\n",
      " 8   mobile_wt      2000 non-null   int64  \n",
      " 9   n_cores        2000 non-null   int64  \n",
      " 10  pc             2000 non-null   int64  \n",
      " 11  px_height      2000 non-null   int64  \n",
      " 12  px_width       2000 non-null   int64  \n",
      " 13  ram            2000 non-null   int64  \n",
      " 14  sc_h           2000 non-null   int64  \n",
      " 15  sc_w           2000 non-null   int64  \n",
      " 16  talk_time      2000 non-null   int64  \n",
      " 17  three_g        2000 non-null   int64  \n",
      " 18  touch_screen   2000 non-null   int64  \n",
      " 19  wifi           2000 non-null   int64  \n",
      " 20  price_range    2000 non-null   int64  \n",
      "dtypes: float64(2), int64(19)\n",
      "memory usage: 328.2 KB\n"
     ]
    }
   ],
   "source": [
    "data.info()"
   ]
  },
  {
   "cell_type": "code",
   "execution_count": 5,
   "id": "0127a35c",
   "metadata": {},
   "outputs": [],
   "source": [
    "# battery_power: 배터리 용량\n",
    "# blue: 블루투스 유뮤 \n",
    "# clock_speed: 클럭 속도\n",
    "# dual_sim: 듀얼심 지원여부\n",
    "# fc: 전면 카메라 메가 픽셀\n",
    "# four_g: 4G여부\n",
    "# int_memory: 내부 메모리(기가바이트 단위)\n",
    "# m_dep: 휴대폰 두께\n",
    "# mobile_wt: 휴대폰 무게\n",
    "# n_cores: 프로세서 코어 수\n",
    "# pc: 기본 카메라 메가픽셀 수\n",
    "# px_height: 픽셀 높이\n",
    "# px_width: 픽셀 너비\n",
    "# ram: 램 용량\n",
    "# sc_h: 스크린 높이\n",
    "# sc_w: 스크린 너비\n",
    "# talk_time: 배터리 지속시간\n",
    "# three_g: 3G 지원여부\n",
    "# touch_screen: 터치스크린 유무\n",
    "# wifi: 와이파이 유무"
   ]
  },
  {
   "cell_type": "code",
   "execution_count": 6,
   "id": "ac1726c3",
   "metadata": {},
   "outputs": [
    {
     "data": {
      "image/png": "[encoded data removed]",
      "text/plain": [
       "<Figure size 432x288 with 1 Axes>"
      ]
     },
     "metadata": {
      "needs_background": "light"
     },
     "output_type": "display_data"
    },
    {
     "data": {
      "image/png": "[encoded data removed]",
      "text/plain": [
       "<Figure size 432x288 with 1 Axes>"
      ]
     },
     "metadata": {
      "needs_background": "light"
     },
     "output_type": "display_data"
    },
    {
     "data": {
      "image/png": "[encoded data removed]",
      "text/plain": [
       "<Figure size 432x288 with 1 Axes>"
      ]
     },
     "metadata": {
      "needs_background": "light"
     },
     "output_type": "display_data"
    },
    {
     "data": {
      "image/png": "[encoded data removed]",
      "text/plain": [
       "<Figure size 432x288 with 1 Axes>"
      ]
     },
     "metadata": {
      "needs_background": "light"
     },
     "output_type": "display_data"
    },
    {
     "data": {
      "image/png": "[encoded data removed]",
      "text/plain": [
       "<Figure size 432x288 with 1 Axes>"
      ]
     },
     "metadata": {
      "needs_background": "light"
     },
     "output_type": "display_data"
    },
    {
     "data": {
      "image/png": "[encoded data removed]",
      "text/plain": [
       "<Figure size 432x288 with 1 Axes>"
      ]
     },
     "metadata": {
      "needs_background": "light"
     },
     "output_type": "display_data"
    },
    {
     "data": {
      "image/png": "[encoded data removed]",
      "text/plain": [
       "<Figure size 432x288 with 1 Axes>"
      ]
     },
     "metadata": {
      "needs_background": "light"
     },
     "output_type": "display_data"
    },
    {
     "data": {
      "image/png": "[encoded data removed]",
      "text/plain": [
       "<Figure size 432x288 with 1 Axes>"
      ]
     },
     "metadata": {
      "needs_background": "light"
     },
     "output_type": "display_data"
    },
    {
     "data": {
      "image/png": "[encoded data removed]",
      "text/plain": [
       "<Figure size 432x288 with 1 Axes>"
      ]
     },
     "metadata": {
      "needs_background": "light"
     },
     "output_type": "display_data"
    },
    {
     "data": {
      "image/png": "[encoded data removed]",
      "text/plain": [
       "<Figure size 432x288 with 1 Axes>"
      ]
     },
     "metadata": {
      "needs_background": "light"
     },
     "output_type": "display_data"
    },
    {
     "data": {
      "image/png": "[encoded data removed]",
      "text/plain": [
       "<Figure size 432x288 with 1 Axes>"
      ]
     },
     "metadata": {
      "needs_background": "light"
     },
     "output_type": "display_data"
    },
    {
     "data": {
      "image/png": "[encoded data removed]",
      "text/plain": [
       "<Figure size 432x288 with 1 Axes>"
      ]
     },
     "metadata": {
      "needs_background": "light"
     },
     "output_type": "display_data"
    },
    {
     "data": {
      "image/png": "[encoded data removed]",
      "text/plain": [
       "<Figure size 432x288 with 1 Axes>"
      ]
     },
     "metadata": {
      "needs_background": "light"
     },
     "output_type": "display_data"
    },
    {
     "data": {
      "image/png": "[encoded data removed]",
      "text/plain": [
       "<Figure size 432x288 with 1 Axes>"
      ]
     },
     "metadata": {
      "needs_background": "light"
     },
     "output_type": "display_data"
    },
    {
     "data": {
      "image/png": "[encoded data removed]",
      "text/plain": [
       "<Figure size 432x288 with 1 Axes>"
      ]
     },
     "metadata": {
      "needs_background": "light"
     },
     "output_type": "display_data"
    },
    {
     "data": {
      "image/png": "[encoded data removed]",
      "text/plain": [
       "<Figure size 432x288 with 1 Axes>"
      ]
     },
     "metadata": {
      "needs_background": "light"
     },
     "output_type": "display_data"
    },
    {
     "data": {
      "image/png": "[encoded data removed]",
      "text/plain": [
       "<Figure size 432x288 with 1 Axes>"
      ]
     },
     "metadata": {
      "needs_background": "light"
     },
     "output_type": "display_data"
    },
    {
     "data": {
      "image/png": "[encoded data removed]",
      "text/plain": [
       "<Figure size 432x288 with 1 Axes>"
      ]
     },
     "metadata": {
      "needs_background": "light"
     },
     "output_type": "display_data"
    },
    {
     "data": {
      "image/png": "[encoded data removed]",
      "text/plain": [
       "<Figure size 432x288 with 1 Axes>"
      ]
     },
     "metadata": {
      "needs_background": "light"
     },
     "output_type": "display_data"
    },
    {
     "data": {
      "image/png": "[encoded data removed]",
      "text/plain": [
       "<Figure size 432x288 with 1 Axes>"
      ]
     },
     "metadata": {
      "needs_background": "light"
     },
     "output_type": "display_data"
    },
    {
     "data": {
      "image/png": "[encoded data removed]",
      "text/plain": [
       "<Figure size 432x288 with 1 Axes>"
      ]
     },
     "metadata": {
      "needs_background": "light"
     },
     "output_type": "display_data"
    }
   ],
   "source": [
    "import seaborn as sns\n",
    "columns = list(data.columns)\n",
    "\n",
    "for i in columns:\n",
    "    sns.countplot(data[i])\n",
    "    plt.show()"
   ]
  },
  {
   "cell_type": "code",
   "execution_count": 7,
   "id": "fbdbb089",
   "metadata": {},
   "outputs": [],
   "source": [
    "### 결측치 확인"
   ]
  },
  {
   "cell_type": "code",
   "execution_count": 8,
   "id": "b7c11c15",
   "metadata": {},
   "outputs": [
    {
     "data": {
      "text/plain": [
       "battery_power    0\n",
       "blue             0\n",
       "clock_speed      0\n",
       "dual_sim         0\n",
       "fc               0\n",
       "four_g           0\n",
       "int_memory       0\n",
       "m_dep            0\n",
       "mobile_wt        0\n",
       "n_cores          0\n",
       "pc               0\n",
       "px_height        0\n",
       "px_width         0\n",
       "ram              0\n",
       "sc_h             0\n",
       "sc_w             0\n",
       "talk_time        0\n",
       "three_g          0\n",
       "touch_screen     0\n",
       "wifi             0\n",
       "price_range      0\n",
       "dtype: int64"
      ]
     },
     "execution_count": 8,
     "metadata": {},
     "output_type": "execute_result"
    }
   ],
   "source": [
    "data.isna().sum()"
   ]
  },
  {
   "cell_type": "code",
   "execution_count": 9,
   "id": "594ddba0",
   "metadata": {
    "scrolled": false
   },
   "outputs": [
    {
     "data": {
      "text/plain": [
       "id               0\n",
       "battery_power    0\n",
       "blue             0\n",
       "clock_speed      0\n",
       "dual_sim         0\n",
       "fc               0\n",
       "four_g           0\n",
       "int_memory       0\n",
       "m_dep            0\n",
       "mobile_wt        0\n",
       "n_cores          0\n",
       "pc               0\n",
       "px_height        0\n",
       "px_width         0\n",
       "ram              0\n",
       "sc_h             0\n",
       "sc_w             0\n",
       "talk_time        0\n",
       "three_g          0\n",
       "touch_screen     0\n",
       "wifi             0\n",
       "dtype: int64"
      ]
     },
     "execution_count": 9,
     "metadata": {},
     "output_type": "execute_result"
    }
   ],
   "source": [
    "test.isna().sum()"
   ]
  },
  {
   "cell_type": "markdown",
   "id": "b491ada0",
   "metadata": {},
   "source": [
    "### target 설정"
   ]
  },
  {
   "cell_type": "code",
   "execution_count": 10,
   "id": "00647dca",
   "metadata": {},
   "outputs": [],
   "source": [
    "target = \"price_range\"\n",
    "y_train = data[target]\n",
    "x_train = data.drop(target,axis = 1)"
   ]
  },
  {
   "cell_type": "markdown",
   "id": "913d3ec8",
   "metadata": {},
   "source": [
    "### 가변수화는 필요없어보임 (범주형은 모두 1,0으로 설정돼있음)"
   ]
  },
  {
   "cell_type": "markdown",
   "id": "c89a69f8",
   "metadata": {},
   "source": [
    "### train, val 분리"
   ]
  },
  {
   "cell_type": "code",
   "execution_count": 11,
   "id": "a4eb496b",
   "metadata": {},
   "outputs": [],
   "source": [
    "x_train, x_val, y_train, y_val = train_test_split(x_train, y_train, test_size=0.2)"
   ]
  },
  {
   "cell_type": "markdown",
   "id": "bdeb3c75",
   "metadata": {},
   "source": [
    "### LinearRegression"
   ]
  },
  {
   "cell_type": "code",
   "execution_count": 12,
   "id": "5749f872",
   "metadata": {},
   "outputs": [],
   "source": [
    "from sklearn.linear_model import LinearRegression"
   ]
  },
  {
   "cell_type": "code",
   "execution_count": 13,
   "id": "393f4301",
   "metadata": {},
   "outputs": [],
   "source": [
    "model1 = LinearRegression()\n",
    "model1.fit(x_train, y_train)\n",
    "pred1 = model1.predict(x_val)\n",
    "pred1 = np.round(pred1)"
   ]
  },
  {
   "cell_type": "code",
   "execution_count": 14,
   "id": "2ed11747",
   "metadata": {},
   "outputs": [],
   "source": [
    "from sklearn.metrics import r2_score, mean_squared_error, mean_absolute_error, mean_absolute_percentage_error"
   ]
  },
  {
   "cell_type": "markdown",
   "id": "22d8b679",
   "metadata": {},
   "source": [
    "#### 성능평가"
   ]
  },
  {
   "cell_type": "code",
   "execution_count": 15,
   "id": "908f415c",
   "metadata": {},
   "outputs": [
    {
     "name": "stdout",
     "output_type": "stream",
     "text": [
      "mse: 0.13\n",
      "rmse: 0.36055512754639896\n",
      "mae: 0.13\n",
      "mape: 213920982300098.56\n",
      "r2_score: 0.8988676089482718\n"
     ]
    }
   ],
   "source": [
    "print(\"mse:\",mean_squared_error(y_val,pred1))\n",
    "print(\"rmse:\",mean_squared_error(y_val,pred1,squared = False))\n",
    "print(\"mae:\",mean_absolute_error(y_val, pred1))\n",
    "print(\"mape:\",mean_absolute_percentage_error(y_val, pred1))\n",
    "print(\"r2_score:\",r2_score(y_val, pred1))"
   ]
  },
  {
   "cell_type": "code",
   "execution_count": 16,
   "id": "e1b05f3a",
   "metadata": {},
   "outputs": [
    {
     "name": "stdout",
     "output_type": "stream",
     "text": [
      "교차검증 : 0.9148747680446391\n"
     ]
    }
   ],
   "source": [
    "from sklearn.model_selection import cross_val_score\n",
    "scores = cross_val_score(model1,x_train, y_train, cv = 10)\n",
    "print(\"교차검증 :\",scores.mean())"
   ]
  },
  {
   "cell_type": "markdown",
   "id": "b2666e17",
   "metadata": {},
   "source": [
    "### KNeighborsRegressor"
   ]
  },
  {
   "cell_type": "code",
   "execution_count": 17,
   "id": "97add887",
   "metadata": {},
   "outputs": [],
   "source": [
    "from sklearn.neighbors import KNeighborsRegressor    \n",
    "model2 = KNeighborsRegressor()"
   ]
  },
  {
   "cell_type": "code",
   "execution_count": 18,
   "id": "74118026",
   "metadata": {},
   "outputs": [],
   "source": [
    "from sklearn.preprocessing import MinMaxScaler\n",
    "scaler = MinMaxScaler()\n",
    "x_train_s = scaler.fit_transform(x_train)\n",
    "x_val_s = scaler.transform(x_val)"
   ]
  },
  {
   "cell_type": "code",
   "execution_count": 19,
   "id": "933b23cc",
   "metadata": {},
   "outputs": [
    {
     "data": {
      "text/plain": [
       "KNeighborsRegressor()"
      ]
     },
     "execution_count": 19,
     "metadata": {},
     "output_type": "execute_result"
    }
   ],
   "source": [
    "model2.fit(x_train_s , y_train)"
   ]
  },
  {
   "cell_type": "code",
   "execution_count": 20,
   "id": "222a5e6e",
   "metadata": {},
   "outputs": [],
   "source": [
    "pred2 = model2.predict(x_val_s)\n",
    "pred2 = np.round(pred2)"
   ]
  },
  {
   "cell_type": "markdown",
   "id": "c45df1d3",
   "metadata": {},
   "source": [
    "#### 성능평가"
   ]
  },
  {
   "cell_type": "code",
   "execution_count": 21,
   "id": "b35fb778",
   "metadata": {},
   "outputs": [
    {
     "name": "stdout",
     "output_type": "stream",
     "text": [
      "mse: 0.805\n",
      "rmse: 0.897217922246318\n",
      "mae: 0.685\n",
      "mape: 1002050917089935.4\n",
      "r2_score: 0.37375711694891345\n"
     ]
    }
   ],
   "source": [
    "print(\"mse:\",mean_squared_error(y_val,pred2))\n",
    "print(\"rmse:\",mean_squared_error(y_val,pred2,squared = False))\n",
    "print(\"mae:\",mean_absolute_error(y_val, pred2))\n",
    "print(\"mape:\",mean_absolute_percentage_error(y_val, pred2))\n",
    "print(\"r2_score:\",r2_score(y_val, pred2))"
   ]
  },
  {
   "cell_type": "markdown",
   "id": "180744ba",
   "metadata": {},
   "source": [
    "#### 튜닝하기"
   ]
  },
  {
   "cell_type": "code",
   "execution_count": 22,
   "id": "68c0804f",
   "metadata": {},
   "outputs": [],
   "source": [
    "from sklearn.model_selection import GridSearchCV, RandomizedSearchCV"
   ]
  },
  {
   "cell_type": "code",
   "execution_count": 23,
   "id": "531b04a6",
   "metadata": {},
   "outputs": [
    {
     "data": {
      "text/plain": [
       "GridSearchCV(cv=10, estimator=KNeighborsRegressor(),\n",
       "             param_grid={'metric': ['minkowski', 'euclidean', 'manhattan'],\n",
       "                         'n_neighbors': range(1, 10)},\n",
       "             scoring='neg_mean_absolute_error')"
      ]
     },
     "execution_count": 23,
     "metadata": {},
     "output_type": "execute_result"
    }
   ],
   "source": [
    "params = {'n_neighbors' : range(1,10),'metric' : ['minkowski', 'euclidean', 'manhattan']}\n",
    "\n",
    "md = KNeighborsRegressor()\n",
    "\n",
    "md_gs = GridSearchCV(md, params, cv = 10, scoring = 'neg_mean_absolute_error')\n",
    "md_gs.fit(x_train_s,y_train)"
   ]
  },
  {
   "cell_type": "code",
   "execution_count": 24,
   "id": "d1aa5931",
   "metadata": {},
   "outputs": [],
   "source": [
    "pred3 = md_gs.predict(x_val_s)\n",
    "pred3 = np.round(pred3)"
   ]
  },
  {
   "cell_type": "code",
   "execution_count": 25,
   "id": "01b2a820",
   "metadata": {},
   "outputs": [
    {
     "name": "stdout",
     "output_type": "stream",
     "text": [
      "mse: 0.705\n",
      "rmse: 0.8396427811873333\n",
      "mae: 0.65\n",
      "mape: 1035827914295214.1\n",
      "r2_score: 0.45155126391178135\n"
     ]
    }
   ],
   "source": [
    "print(\"mse:\",mean_squared_error(y_val,pred3))\n",
    "print(\"rmse:\",mean_squared_error(y_val,pred3,squared = False))\n",
    "print(\"mae:\",mean_absolute_error(y_val, pred3))\n",
    "print(\"mape:\",mean_absolute_percentage_error(y_val, pred3))\n",
    "print(\"r2_score:\",r2_score(y_val, pred3))"
   ]
  },
  {
   "cell_type": "code",
   "execution_count": 26,
   "id": "66f8d749",
   "metadata": {},
   "outputs": [],
   "source": [
    "##### 전체적으로 KNN의 성능은 좋지 않은 것을 볼 수 있었다. 왜일까?"
   ]
  },
  {
   "cell_type": "markdown",
   "id": "cb02dfd1",
   "metadata": {},
   "source": [
    "### DecisionTreeRegressor"
   ]
  },
  {
   "cell_type": "code",
   "execution_count": 27,
   "id": "6188b892",
   "metadata": {},
   "outputs": [],
   "source": [
    "from sklearn.tree import DecisionTreeRegressor"
   ]
  },
  {
   "cell_type": "code",
   "execution_count": 28,
   "id": "5a53f57a",
   "metadata": {},
   "outputs": [],
   "source": [
    "model3 = DecisionTreeRegressor()\n",
    "model3.fit(x_train, y_train)\n",
    "pred4 = model3.predict(x_val)\n",
    "pred4 = np.round(pred4)"
   ]
  },
  {
   "cell_type": "code",
   "execution_count": 29,
   "id": "6d455976",
   "metadata": {},
   "outputs": [
    {
     "name": "stdout",
     "output_type": "stream",
     "text": [
      "mse: 0.155\n",
      "rmse: 0.39370039370059057\n",
      "mae: 0.155\n",
      "mape: 101330991615836.23\n",
      "r2_score: 0.8794190722075548\n"
     ]
    }
   ],
   "source": [
    "print(\"mse:\",mean_squared_error(y_val,pred4))\n",
    "print(\"rmse:\",mean_squared_error(y_val,pred4,squared = False))\n",
    "print(\"mae:\",mean_absolute_error(y_val, pred4))\n",
    "print(\"mape:\",mean_absolute_percentage_error(y_val, pred4))\n",
    "print(\"r2_score:\",r2_score(y_val, pred4))"
   ]
  },
  {
   "cell_type": "code",
   "execution_count": 30,
   "id": "ef449ffa",
   "metadata": {},
   "outputs": [],
   "source": [
    "params = {'min_samples_leaf' : range(10,100,10), 'max_depth' : range(1,10,2)}\n",
    "\n",
    "md2 = DecisionTreeRegressor()\n",
    "md2_gs = GridSearchCV(md2, params, cv = 10)\n",
    "md2_gs.fit(x_train,y_train)\n",
    "pred5 = md2_gs.predict(x_val)\n",
    "pred5 = np.round(pred5)"
   ]
  },
  {
   "cell_type": "code",
   "execution_count": 31,
   "id": "f2d74a29",
   "metadata": {},
   "outputs": [
    {
     "name": "stdout",
     "output_type": "stream",
     "text": [
      "mse: 0.1425\n",
      "rmse: 0.37749172176353746\n",
      "mae: 0.1425\n",
      "mape: 90071992547410.0\n",
      "r2_score: 0.8891433405779132\n"
     ]
    }
   ],
   "source": [
    "print(\"mse:\",mean_squared_error(y_val,pred5))\n",
    "print(\"rmse:\",mean_squared_error(y_val,pred5,squared = False))\n",
    "print(\"mae:\",mean_absolute_error(y_val, pred5))\n",
    "print(\"mape:\",mean_absolute_percentage_error(y_val, pred5))\n",
    "print(\"r2_score:\",r2_score(y_val, pred5))"
   ]
  },
  {
   "cell_type": "markdown",
   "id": "55f9c4f5",
   "metadata": {},
   "source": [
    "### SVM"
   ]
  },
  {
   "cell_type": "code",
   "execution_count": 32,
   "id": "a317a8c2",
   "metadata": {},
   "outputs": [],
   "source": [
    "from sklearn.svm import SVR"
   ]
  },
  {
   "cell_type": "code",
   "execution_count": 33,
   "id": "42dca300",
   "metadata": {},
   "outputs": [],
   "source": [
    "model4 = SVR()\n",
    "model4.fit(x_train_s, y_train)\n",
    "pred6 = model4.predict(x_val_s)\n",
    "pred6 = np.round(pred6)"
   ]
  },
  {
   "cell_type": "code",
   "execution_count": 34,
   "id": "dd7cfb43",
   "metadata": {},
   "outputs": [
    {
     "name": "stdout",
     "output_type": "stream",
     "text": [
      "mse: 0.17\n",
      "rmse: 0.41231056256176607\n",
      "mae: 0.17\n",
      "mape: 292733975779082.25\n",
      "r2_score: 0.8677499501631245\n"
     ]
    }
   ],
   "source": [
    "print(\"mse:\",mean_squared_error(y_val,pred6))\n",
    "print(\"rmse:\",mean_squared_error(y_val,pred6,squared = False))\n",
    "print(\"mae:\",mean_absolute_error(y_val, pred6))\n",
    "print(\"mape:\",mean_absolute_percentage_error(y_val, pred6))\n",
    "print(\"r2_score:\",r2_score(y_val, pred6))"
   ]
  },
  {
   "cell_type": "markdown",
   "id": "673535c8",
   "metadata": {},
   "source": [
    "#### 튜닝하기"
   ]
  },
  {
   "cell_type": "code",
   "execution_count": 35,
   "id": "52fbfe49",
   "metadata": {},
   "outputs": [],
   "source": [
    "params = {'C' : range(11,15), 'gamma' : np.linspace(0.005, 0.02, 5)}\n",
    "\n",
    "md3 = SVR()\n",
    "md3_gs = GridSearchCV(md3, params, cv = 10)\n",
    "md3_gs.fit(x_train_s,y_train)\n",
    "pred7 = md3_gs.predict(x_val_s)\n",
    "pred7 = np.round(pred7)"
   ]
  },
  {
   "cell_type": "code",
   "execution_count": 36,
   "id": "9a340f74",
   "metadata": {},
   "outputs": [
    {
     "data": {
      "text/plain": [
       "SVR(C=14, gamma=0.005)"
      ]
     },
     "execution_count": 36,
     "metadata": {},
     "output_type": "execute_result"
    }
   ],
   "source": [
    "md3_gs.best_estimator_"
   ]
  },
  {
   "cell_type": "code",
   "execution_count": 37,
   "id": "d33b2f51",
   "metadata": {},
   "outputs": [
    {
     "name": "stdout",
     "output_type": "stream",
     "text": [
      "mse: 0.1375\n",
      "rmse: 0.37080992435478316\n",
      "mae: 0.1375\n",
      "mape: 213920982300098.56\n",
      "r2_score: 0.8930330479260566\n"
     ]
    }
   ],
   "source": [
    "print(\"mse:\",mean_squared_error(y_val,pred7))\n",
    "print(\"rmse:\",mean_squared_error(y_val,pred7,squared = False))\n",
    "print(\"mae:\",mean_absolute_error(y_val, pred7))\n",
    "print(\"mape:\",mean_absolute_percentage_error(y_val, pred7))\n",
    "print(\"r2_score:\",r2_score(y_val, pred7))"
   ]
  },
  {
   "cell_type": "markdown",
   "id": "a208a17f",
   "metadata": {},
   "source": [
    "### RandomForest"
   ]
  },
  {
   "cell_type": "code",
   "execution_count": 38,
   "id": "bb0b789d",
   "metadata": {},
   "outputs": [],
   "source": [
    "from sklearn.ensemble import RandomForestRegressor"
   ]
  },
  {
   "cell_type": "code",
   "execution_count": 39,
   "id": "41a33c3a",
   "metadata": {},
   "outputs": [],
   "source": [
    "model5 = RandomForestRegressor()\n",
    "model5.fit(x_train, y_train)\n",
    "pred8 = model5.predict(x_val)\n",
    "pred8 = np.round(pred8)"
   ]
  },
  {
   "cell_type": "code",
   "execution_count": 40,
   "id": "fe883cce",
   "metadata": {},
   "outputs": [
    {
     "name": "stdout",
     "output_type": "stream",
     "text": [
      "mse: 0.0875\n",
      "rmse: 0.2958039891549808\n",
      "mae: 0.0875\n",
      "mape: 90071992547409.95\n",
      "r2_score: 0.9319301214074905\n"
     ]
    }
   ],
   "source": [
    "print(\"mse:\",mean_squared_error(y_val,pred8))\n",
    "print(\"rmse:\",mean_squared_error(y_val,pred8,squared = False))\n",
    "print(\"mae:\",mean_absolute_error(y_val, pred8))\n",
    "print(\"mape:\",mean_absolute_percentage_error(y_val, pred8))\n",
    "print(\"r2_score:\",r2_score(y_val, pred8))"
   ]
  },
  {
   "cell_type": "code",
   "execution_count": null,
   "id": "2c673d1a",
   "metadata": {},
   "outputs": [],
   "source": [
    "### 최고 성능이다."
   ]
  },
  {
   "cell_type": "markdown",
   "id": "ca729d8a",
   "metadata": {},
   "source": [
    "### 튜닝하기"
   ]
  },
  {
   "cell_type": "code",
   "execution_count": 41,
   "id": "8ec4f2b8",
   "metadata": {},
   "outputs": [],
   "source": [
    "params = {'n_estimators':range(2,6),'min_samples_leaf' : range(1,50,10), 'max_depth' : range(12,17,2)}\n",
    "\n",
    "md4 = RandomForestRegressor()\n",
    "md4_gs = GridSearchCV(md4, params, cv = 10)\n",
    "md4_gs.fit(x_train,y_train)\n",
    "pred9 = md4_gs.predict(x_val)\n",
    "pred9 = np.round(pred9)"
   ]
  },
  {
   "cell_type": "code",
   "execution_count": 42,
   "id": "db7f89f7",
   "metadata": {},
   "outputs": [
    {
     "data": {
      "text/plain": [
       "RandomForestRegressor(max_depth=16, min_samples_leaf=11, n_estimators=4)"
      ]
     },
     "execution_count": 42,
     "metadata": {},
     "output_type": "execute_result"
    }
   ],
   "source": [
    "md4_gs.best_estimator_"
   ]
  },
  {
   "cell_type": "code",
   "execution_count": 43,
   "id": "99aee108",
   "metadata": {},
   "outputs": [
    {
     "name": "stdout",
     "output_type": "stream",
     "text": [
      "mse: 0.1025\n",
      "rmse: 0.32015621187164245\n",
      "mae: 0.1025\n",
      "mape: 56294995342131.26\n",
      "r2_score: 0.9202609993630604\n"
     ]
    }
   ],
   "source": [
    "print(\"mse:\",mean_squared_error(y_val,pred9))\n",
    "print(\"rmse:\",mean_squared_error(y_val,pred9,squared = False))\n",
    "print(\"mae:\",mean_absolute_error(y_val, pred9))\n",
    "print(\"mape:\",mean_absolute_percentage_error(y_val, pred9))\n",
    "print(\"r2_score:\",r2_score(y_val, pred9))"
   ]
  },
  {
   "cell_type": "code",
   "execution_count": 44,
   "id": "5ed008bb",
   "metadata": {},
   "outputs": [],
   "source": [
    "#오히려 튜닝 후 성능이 떨어졌다. train데이터에 과적합 되지않았나 라고 추측해본다"
   ]
  },
  {
   "cell_type": "markdown",
   "id": "e70bea45",
   "metadata": {},
   "source": [
    "### XGB"
   ]
  },
  {
   "cell_type": "code",
   "execution_count": 45,
   "id": "06ce6a39",
   "metadata": {},
   "outputs": [],
   "source": [
    "from xgboost import XGBRegressor"
   ]
  },
  {
   "cell_type": "code",
   "execution_count": 46,
   "id": "3bc9c7ef",
   "metadata": {},
   "outputs": [],
   "source": [
    "model6 = XGBRegressor()\n",
    "model6.fit(x_train, y_train)\n",
    "pred10 = model6.predict(x_val)\n",
    "pred10 = np.round(pred10)"
   ]
  },
  {
   "cell_type": "code",
   "execution_count": 47,
   "id": "5946b022",
   "metadata": {},
   "outputs": [
    {
     "name": "stdout",
     "output_type": "stream",
     "text": [
      "mse: 0.1025\n",
      "rmse: 0.32015621187164245\n",
      "mae: 0.1025\n",
      "mape: 78812993478983.72\n",
      "r2_score: 0.9202609993630604\n"
     ]
    }
   ],
   "source": [
    "print(\"mse:\",mean_squared_error(y_val,pred10))\n",
    "print(\"rmse:\",mean_squared_error(y_val,pred10,squared = False))\n",
    "print(\"mae:\",mean_absolute_error(y_val, pred10))\n",
    "print(\"mape:\",mean_absolute_percentage_error(y_val, pred10))\n",
    "print(\"r2_score:\",r2_score(y_val, pred10))"
   ]
  },
  {
   "cell_type": "markdown",
   "id": "8dea8fb5",
   "metadata": {},
   "source": [
    "#### 튜닝하기"
   ]
  },
  {
   "cell_type": "code",
   "execution_count": 48,
   "id": "edcdda1a",
   "metadata": {},
   "outputs": [],
   "source": [
    "params = { 'max_depth':[3,5,8], 'n_estimators':[50,100,150], 'learning_rate':[0.01,0.1,0.2]}\n",
    "\n",
    "md5 = XGBRegressor()\n",
    "md5_gs = GridSearchCV(md5, params, cv = 10)\n",
    "md5_gs.fit(x_train,y_train)\n",
    "pred11 = md5_gs.predict(x_val)\n",
    "pred11 = np.round(pred11)"
   ]
  },
  {
   "cell_type": "code",
   "execution_count": 49,
   "id": "a3b93f52",
   "metadata": {},
   "outputs": [
    {
     "data": {
      "text/plain": [
       "XGBRegressor(base_score=0.5, booster='gbtree', callbacks=None,\n",
       "             colsample_bylevel=1, colsample_bynode=1, colsample_bytree=1,\n",
       "             early_stopping_rounds=None, enable_categorical=False,\n",
       "             eval_metric=None, gamma=0, gpu_id=-1, grow_policy='depthwise',\n",
       "             importance_type=None, interaction_constraints='',\n",
       "             learning_rate=0.1, max_bin=256, max_cat_to_onehot=4,\n",
       "             max_delta_step=0, max_depth=5, max_leaves=0, min_child_weight=1,\n",
       "             missing=nan, monotone_constraints='()', n_estimators=50, n_jobs=0,\n",
       "             num_parallel_tree=1, predictor='auto', random_state=0, reg_alpha=0,\n",
       "             reg_lambda=1, ...)"
      ]
     },
     "execution_count": 49,
     "metadata": {},
     "output_type": "execute_result"
    }
   ],
   "source": [
    "md5_gs.best_estimator_"
   ]
  },
  {
   "cell_type": "code",
   "execution_count": 50,
   "id": "c9da0b4b",
   "metadata": {},
   "outputs": [
    {
     "name": "stdout",
     "output_type": "stream",
     "text": [
      "mse: 0.09\n",
      "rmse: 0.3\n",
      "mae: 0.09\n",
      "mape: 67553994410557.48\n",
      "r2_score: 0.9299852677334189\n"
     ]
    }
   ],
   "source": [
    "print(\"mse:\",mean_squared_error(y_val,pred11))\n",
    "print(\"rmse:\",mean_squared_error(y_val,pred11,squared = False))\n",
    "print(\"mae:\",mean_absolute_error(y_val, pred11))\n",
    "print(\"mape:\",mean_absolute_percentage_error(y_val, pred11))\n",
    "print(\"r2_score:\",r2_score(y_val, pred11))"
   ]
  },
  {
   "cell_type": "code",
   "execution_count": 51,
   "id": "10a93cd4",
   "metadata": {},
   "outputs": [],
   "source": []
  }
 ],
 "metadata": {
  "kernelspec": {
   "display_name": "Python 3 (ipykernel)",
   "language": "python",
   "name": "python3"
  },
  "language_info": {
   "codemirror_mode": {
    "name": "ipython",
    "version": 3
   },
   "file_extension": ".py",
   "mimetype": "text/x-python",
   "name": "python",
   "nbconvert_exporter": "python",
   "pygments_lexer": "ipython3",
   "version": "3.9.12"
  }
 },
 "nbformat": 4,
 "nbformat_minor": 5
}
